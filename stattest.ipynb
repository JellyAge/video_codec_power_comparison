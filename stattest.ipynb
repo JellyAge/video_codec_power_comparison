{
 "cells": [
  {
   "cell_type": "code",
   "execution_count": 8,
   "metadata": {},
   "outputs": [],
   "source": [
    "import pandas as pd\n",
    "import scipy.stats as stats\n",
    "from itertools import combinations\n",
    "from statsmodels.stats.multitest import multipletests"
   ]
  },
  {
   "cell_type": "code",
   "execution_count": 4,
   "metadata": {},
   "outputs": [
    {
     "data": {
      "text/html": [
       "<div>\n",
       "<style scoped>\n",
       "    .dataframe tbody tr th:only-of-type {\n",
       "        vertical-align: middle;\n",
       "    }\n",
       "\n",
       "    .dataframe tbody tr th {\n",
       "        vertical-align: top;\n",
       "    }\n",
       "\n",
       "    .dataframe thead th {\n",
       "        text-align: right;\n",
       "    }\n",
       "</style>\n",
       "<table border=\"1\" class=\"dataframe\">\n",
       "  <thead>\n",
       "    <tr style=\"text-align: right;\">\n",
       "      <th></th>\n",
       "      <th>codec</th>\n",
       "      <th>hw_accel</th>\n",
       "      <th>power</th>\n",
       "    </tr>\n",
       "  </thead>\n",
       "  <tbody>\n",
       "    <tr>\n",
       "      <th>0</th>\n",
       "      <td>H264</td>\n",
       "      <td>True</td>\n",
       "      <td>4.074817</td>\n",
       "    </tr>\n",
       "    <tr>\n",
       "      <th>1</th>\n",
       "      <td>H265</td>\n",
       "      <td>True</td>\n",
       "      <td>5.597625</td>\n",
       "    </tr>\n",
       "    <tr>\n",
       "      <th>2</th>\n",
       "      <td>AV1</td>\n",
       "      <td>False</td>\n",
       "      <td>13.960303</td>\n",
       "    </tr>\n",
       "    <tr>\n",
       "      <th>3</th>\n",
       "      <td>H264</td>\n",
       "      <td>True</td>\n",
       "      <td>4.046925</td>\n",
       "    </tr>\n",
       "    <tr>\n",
       "      <th>4</th>\n",
       "      <td>AV1</td>\n",
       "      <td>False</td>\n",
       "      <td>14.203015</td>\n",
       "    </tr>\n",
       "  </tbody>\n",
       "</table>\n",
       "</div>"
      ],
      "text/plain": [
       "  codec  hw_accel      power\n",
       "0  H264      True   4.074817\n",
       "1  H265      True   5.597625\n",
       "2   AV1     False  13.960303\n",
       "3  H264      True   4.046925\n",
       "4   AV1     False  14.203015"
      ]
     },
     "execution_count": 4,
     "metadata": {},
     "output_type": "execute_result"
    }
   ],
   "source": [
    "\n",
    "file_path = 'result.csv'\n",
    "data = pd.read_csv(file_path)\n",
    "\n",
    "data.head()"
   ]
  },
  {
   "cell_type": "code",
   "execution_count": 5,
   "metadata": {},
   "outputs": [
    {
     "data": {
      "text/plain": [
       "{('AV1', False): 0.03352661430835724,\n",
       " ('H264', False): 0.8308635354042053,\n",
       " ('H264', True): 0.0012765637366101146,\n",
       " ('H265', False): 0.0004201561096124351,\n",
       " ('H265', True): 8.998152445371943e-09}"
      ]
     },
     "execution_count": 5,
     "metadata": {},
     "output_type": "execute_result"
    }
   ],
   "source": [
    "# Shapiro-Wilk test for normality\n",
    "normality_results = {}\n",
    "\n",
    "groups = data.groupby(['codec', 'hw_accel'])\n",
    "\n",
    "for group, group_data in groups:\n",
    "    stat, p_value = stats.shapiro(group_data['power'])\n",
    "    normality_results[group] = p_value\n",
    "\n",
    "normality_results\n"
   ]
  },
  {
   "cell_type": "code",
   "execution_count": 6,
   "metadata": {},
   "outputs": [
    {
     "data": {
      "text/plain": [
       "(131.15052862066284, 2.2097210863946276e-27)"
      ]
     },
     "execution_count": 6,
     "metadata": {},
     "output_type": "execute_result"
    }
   ],
   "source": [
    "# Kruskal-Wallis H-test for independent samples\n",
    "samples = [group_data['power'].values for group, group_data in groups]\n",
    "\n",
    "stat, p_value = stats.kruskal(*samples)\n",
    "stat, p_value\n"
   ]
  },
  {
   "cell_type": "code",
   "execution_count": 9,
   "metadata": {},
   "outputs": [
    {
     "data": {
      "text/plain": [
       "{(('AV1', False), ('H264', False)): {'stat': 827.0,\n",
       "  'p_value': 2.5263629217472197e-10,\n",
       "  'adjusted_p_value': 2.52636292174722e-09},\n",
       " (('AV1', False), ('H264', True)): {'stat': 900.0,\n",
       "  'p_value': 3.019859359162157e-11,\n",
       "  'adjusted_p_value': 3.019859359162157e-10},\n",
       " (('AV1', False), ('H265', False)): {'stat': 819.0,\n",
       "  'p_value': 5.092196223484032e-08,\n",
       "  'adjusted_p_value': 5.092196223484032e-07},\n",
       " (('AV1', False), ('H265', True)): {'stat': 900.0,\n",
       "  'p_value': 3.019859359162157e-11,\n",
       "  'adjusted_p_value': 3.019859359162157e-10},\n",
       " (('H264', False), ('H264', True)): {'stat': 840.0,\n",
       "  'p_value': 6.680905866173482e-11,\n",
       "  'adjusted_p_value': 6.680905866173482e-10},\n",
       " (('H264', False), ('H265', False)): {'stat': 186.0,\n",
       "  'p_value': 0.00027972315726719634,\n",
       "  'adjusted_p_value': 0.0027972315726719635},\n",
       " (('H264', False), ('H265', True)): {'stat': 840.0,\n",
       "  'p_value': 6.680905866173482e-11,\n",
       "  'adjusted_p_value': 6.680905866173482e-10},\n",
       " (('H264', True), ('H265', False)): {'stat': 0.0,\n",
       "  'p_value': 3.019859359162157e-11,\n",
       "  'adjusted_p_value': 3.019859359162157e-10},\n",
       " (('H264', True), ('H265', True)): {'stat': 57.0,\n",
       "  'p_value': 6.5182731281236696e-09,\n",
       "  'adjusted_p_value': 6.51827312812367e-08},\n",
       " (('H265', False), ('H265', True)): {'stat': 900.0,\n",
       "  'p_value': 3.019859359162157e-11,\n",
       "  'adjusted_p_value': 3.019859359162157e-10}}"
      ]
     },
     "execution_count": 9,
     "metadata": {},
     "output_type": "execute_result"
    }
   ],
   "source": [
    "group_names = list(groups.groups.keys())\n",
    "comparisons = list(combinations(group_names, 2))\n",
    "\n",
    "#Mann-Whitney U test for each pair and collect p-values\n",
    "p_values = []\n",
    "comparison_results = {}\n",
    "\n",
    "for group1, group2 in comparisons:\n",
    "    stat, p = stats.mannwhitneyu(groups.get_group(group1)['power'],\n",
    "                                 groups.get_group(group2)['power'],\n",
    "                                 alternative='two-sided')\n",
    "    p_values.append(p)\n",
    "    comparison_results[(group1, group2)] = {'stat': stat, 'p_value': p}\n",
    "\n",
    "# Adjust p-values\n",
    "adjusted_p_values = multipletests(p_values, method='bonferroni')[1]\n",
    "\n",
    "for (group1, group2), p_value in zip(comparison_results.keys(), adjusted_p_values):\n",
    "    comparison_results[(group1, group2)]['adjusted_p_value'] = p_value\n",
    "\n",
    "comparison_results\n"
   ]
  },
  {
   "cell_type": "markdown",
   "metadata": {},
   "source": []
  }
 ],
 "metadata": {
  "kernelspec": {
   "display_name": "Python 3",
   "language": "python",
   "name": "python3"
  },
  "language_info": {
   "codemirror_mode": {
    "name": "ipython",
    "version": 3
   },
   "file_extension": ".py",
   "mimetype": "text/x-python",
   "name": "python",
   "nbconvert_exporter": "python",
   "pygments_lexer": "ipython3",
   "version": "3.11.5"
  }
 },
 "nbformat": 4,
 "nbformat_minor": 2
}
